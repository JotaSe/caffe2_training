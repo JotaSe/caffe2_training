{
 "cells": [
  {
   "cell_type": "markdown",
   "metadata": {},
   "source": [
    "# Blobs and Workspace, Tensors\n"
   ]
  },
  {
   "cell_type": "code",
   "execution_count": 2,
   "metadata": {},
   "outputs": [
    {
     "name": "stdout",
     "output_type": "stream",
     "text": [
      "[[[ 0.7334429   0.6105842 ]\n",
      "  [ 0.695658    0.4447277 ]\n",
      "  [ 0.73633831  0.51589216]]\n",
      "\n",
      " [[ 0.72458532  0.55056262]\n",
      "  [ 0.07614249  0.99768206]\n",
      "  [ 0.1745267   0.35030677]]\n",
      "\n",
      " [[ 0.76642478  0.69320789]\n",
      "  [ 0.6992602   0.35971421]\n",
      "  [ 0.55041928  0.15991804]]\n",
      "\n",
      " [[ 0.91346204  0.94522105]\n",
      "  [ 0.56498455  0.18048199]\n",
      "  [ 0.45907406  0.24359528]]]\n",
      "(4, 3, 2)\n",
      "[[[ 0.7334429   0.6105842 ]\n",
      "  [ 0.695658    0.4447277 ]\n",
      "  [ 0.73633831  0.51589216]]\n",
      "\n",
      " [[ 0.72458532  0.55056262]\n",
      "  [ 0.07614249  0.99768206]\n",
      "  [ 0.1745267   0.35030677]]\n",
      "\n",
      " [[ 0.76642478  0.69320789]\n",
      "  [ 0.6992602   0.35971421]\n",
      "  [ 0.55041928  0.15991804]]\n",
      "\n",
      " [[ 0.91346204  0.94522105]\n",
      "  [ 0.56498455  0.18048199]\n",
      "  [ 0.45907406  0.24359528]]]\n"
     ]
    }
   ],
   "source": [
    "import numpy as np\n",
    "from caffe2.python import workspace\n",
    "# Create random tensor of three dimensions\n",
    "x = np.random.rand(4, 3, 2)\n",
    "print(x)\n",
    "print(x.shape)\n",
    "\n",
    "workspace.FeedBlob(\"my_x\", x)\n",
    "\n",
    "x2 = workspace.FetchBlob(\"my_x\")\n",
    "print(x2)"
   ]
  },
  {
   "cell_type": "markdown",
   "metadata": {},
   "source": [
    "# Nets and Operators"
   ]
  },
  {
   "cell_type": "code",
   "execution_count": 6,
   "metadata": {},
   "outputs": [],
   "source": [
    "from caffe2.python import cnn\n",
    "\n",
    "# Create the input data\n",
    "data = np.random.rand(16, 100).astype(np.float32)\n",
    "\n",
    "# Create labels for the data as integers [0, 9].\n",
    "label = (np.random.rand(16) * 10).astype(np.int32)\n",
    "\n",
    "workspace.FeedBlob(\"data\", data)\n",
    "workspace.FeedBlob(\"label\", label)\n",
    "\n",
    "# Create model using a model helper\n",
    "m = cnn.CNNModelHelper(name = \"My first net\")\n",
    "fc_1 = m.FC(\"data\", \"fc1\", dim_in=100, dim_out=10)\n",
    "pred = m.Sigmoid(fc_1, \"pred\")\n",
    "[softmax, loss] = m.SoftmaxWithLoss([pred, \"label\"], [\"softmax\", \"loss\"])\n"
   ]
  },
  {
   "cell_type": "code",
   "execution_count": 8,
   "metadata": {},
   "outputs": [
    {
     "name": "stdout",
     "output_type": "stream",
     "text": [
      "name: \"My first net\"\n",
      "op {\n",
      "  input: \"data\"\n",
      "  input: \"fc1_w\"\n",
      "  input: \"fc1_b\"\n",
      "  output: \"fc1\"\n",
      "  name: \"\"\n",
      "  type: \"FC\"\n",
      "}\n",
      "op {\n",
      "  input: \"fc1\"\n",
      "  output: \"pred\"\n",
      "  name: \"\"\n",
      "  type: \"Sigmoid\"\n",
      "}\n",
      "op {\n",
      "  input: \"pred\"\n",
      "  input: \"label\"\n",
      "  output: \"softmax\"\n",
      "  output: \"loss\"\n",
      "  name: \"\"\n",
      "  type: \"SoftmaxWithLoss\"\n",
      "}\n",
      "external_input: \"data\"\n",
      "external_input: \"fc1_w\"\n",
      "external_input: \"fc1_b\"\n",
      "external_input: \"label\"\n",
      "\n"
     ]
    }
   ],
   "source": [
    "# Printing our network\n",
    "print(str(m.net.Proto()))"
   ]
  },
  {
   "cell_type": "code",
   "execution_count": 9,
   "metadata": {},
   "outputs": [
    {
     "name": "stdout",
     "output_type": "stream",
     "text": [
      "name: \"My first net_init\"\n",
      "op {\n",
      "  output: \"fc1_w\"\n",
      "  name: \"\"\n",
      "  type: \"XavierFill\"\n",
      "  arg {\n",
      "    name: \"shape\"\n",
      "    ints: 10\n",
      "    ints: 100\n",
      "  }\n",
      "}\n",
      "op {\n",
      "  output: \"fc1_b\"\n",
      "  name: \"\"\n",
      "  type: \"ConstantFill\"\n",
      "  arg {\n",
      "    name: \"shape\"\n",
      "    ints: 10\n",
      "  }\n",
      "}\n",
      "\n"
     ]
    }
   ],
   "source": [
    "# printintg oarams initialization\n",
    "print(str(m.param_init_net.Proto()))"
   ]
  },
  {
   "cell_type": "markdown",
   "metadata": {},
   "source": [
    "# Executing"
   ]
  },
  {
   "cell_type": "code",
   "execution_count": 13,
   "metadata": {},
   "outputs": [
    {
     "data": {
      "text/plain": [
       "True"
      ]
     },
     "execution_count": 13,
     "metadata": {},
     "output_type": "execute_result"
    }
   ],
   "source": [
    "# Executing NET\n",
    "workspace.RunNetOnce(m.param_init_net)\n",
    "\n",
    "# Create NET\n",
    "workspace.CreateNet(m.net, overwrite=True)"
   ]
  },
  {
   "cell_type": "code",
   "execution_count": 14,
   "metadata": {
    "collapsed": true
   },
   "outputs": [],
   "source": [
    "# Run 100 x 10 iterations\n",
    "for j in range(0, 100):\n",
    "    data = np.random.rand(16, 100).astype(np.float32)\n",
    "    label = (np.random.rand(16) * 10).astype(np.int32)\n",
    "\n",
    "    workspace.FeedBlob(\"data\", data)\n",
    "    workspace.FeedBlob(\"label\", label)\n",
    "\n",
    "    workspace.RunNet(m.name, 10)   # run for 10 times"
   ]
  },
  {
   "cell_type": "code",
   "execution_count": 16,
   "metadata": {},
   "outputs": [
    {
     "name": "stdout",
     "output_type": "stream",
     "text": [
      "[[ 0.13668087  0.10275622  0.09700239  0.12011887  0.09055661  0.0916146\n",
      "   0.09483723  0.07353897  0.08775589  0.10513844]\n",
      " [ 0.11496405  0.10083846  0.09469268  0.10929509  0.09023023  0.09889856\n",
      "   0.10507834  0.08078057  0.09986879  0.10535325]\n",
      " [ 0.11940757  0.10366406  0.0843748   0.12690388  0.08332705  0.1056786\n",
      "   0.09133372  0.06731467  0.11217844  0.10581722]\n",
      " [ 0.11510176  0.09279281  0.09905954  0.09908924  0.09153304  0.10262881\n",
      "   0.10627434  0.08258919  0.09855077  0.11238049]\n",
      " [ 0.11933286  0.1045453   0.1037085   0.10980615  0.08240857  0.09939982\n",
      "   0.08429096  0.07139304  0.11642073  0.10869402]\n",
      " [ 0.12040798  0.09744554  0.10405618  0.10214063  0.08871825  0.09360851\n",
      "   0.10949821  0.08054492  0.0963517   0.1072282 ]\n",
      " [ 0.10593273  0.10150137  0.10306506  0.1109442   0.08848181  0.09773538\n",
      "   0.09556419  0.06804623  0.11435916  0.11436979]\n",
      " [ 0.13801157  0.10596079  0.08639516  0.11408474  0.08776031  0.10382164\n",
      "   0.09502169  0.07032409  0.09856845  0.10005163]\n",
      " [ 0.12355163  0.10587834  0.09577259  0.10239395  0.09691281  0.08861139\n",
      "   0.10662179  0.07020039  0.10093431  0.1091228 ]\n",
      " [ 0.11365974  0.10231428  0.09452806  0.1171382   0.09036578  0.09442678\n",
      "   0.1091909   0.07048142  0.1034693   0.10442559]\n",
      " [ 0.12021353  0.09273191  0.09378094  0.11477511  0.09401403  0.09639622\n",
      "   0.10355884  0.06959365  0.1078802   0.1070557 ]\n",
      " [ 0.11552539  0.10878139  0.08701183  0.1090344   0.0983301   0.09889068\n",
      "   0.09933782  0.07702237  0.11131381  0.09475219]\n",
      " [ 0.10667121  0.10887643  0.09042867  0.10709678  0.09020709  0.09707501\n",
      "   0.09796059  0.07490868  0.11374763  0.11302794]\n",
      " [ 0.11249086  0.08721685  0.10395995  0.10812918  0.0917813   0.10372861\n",
      "   0.09191653  0.07374954  0.11583493  0.1111923 ]\n",
      " [ 0.13072905  0.10304034  0.10395461  0.10411363  0.08841187  0.09750543\n",
      "   0.0977667   0.06990846  0.0999497   0.1046202 ]\n",
      " [ 0.11671569  0.09967014  0.105104    0.11585227  0.09043714  0.09507771\n",
      "   0.09556606  0.07156729  0.10425922  0.10575046]]\n",
      "2.24809145927\n"
     ]
    }
   ],
   "source": [
    "print(workspace.FetchBlob(\"softmax\"))\n",
    "print(workspace.FetchBlob(\"loss\"))"
   ]
  },
  {
   "cell_type": "markdown",
   "metadata": {},
   "source": [
    "# Backward pass"
   ]
  },
  {
   "cell_type": "code",
   "execution_count": 17,
   "metadata": {},
   "outputs": [
    {
     "name": "stdout",
     "output_type": "stream",
     "text": [
      "name: \"My first net\"\n",
      "op {\n",
      "  input: \"data\"\n",
      "  input: \"fc1_w\"\n",
      "  input: \"fc1_b\"\n",
      "  output: \"fc1\"\n",
      "  name: \"\"\n",
      "  type: \"FC\"\n",
      "}\n",
      "op {\n",
      "  input: \"fc1\"\n",
      "  output: \"pred\"\n",
      "  name: \"\"\n",
      "  type: \"Sigmoid\"\n",
      "}\n",
      "op {\n",
      "  input: \"pred\"\n",
      "  input: \"label\"\n",
      "  output: \"softmax\"\n",
      "  output: \"loss\"\n",
      "  name: \"\"\n",
      "  type: \"SoftmaxWithLoss\"\n",
      "}\n",
      "op {\n",
      "  input: \"loss\"\n",
      "  output: \"loss_autogen_grad\"\n",
      "  name: \"\"\n",
      "  type: \"ConstantFill\"\n",
      "  arg {\n",
      "    name: \"value\"\n",
      "    f: 1.0\n",
      "  }\n",
      "}\n",
      "op {\n",
      "  input: \"pred\"\n",
      "  input: \"label\"\n",
      "  input: \"softmax\"\n",
      "  input: \"loss_autogen_grad\"\n",
      "  output: \"pred_grad\"\n",
      "  name: \"\"\n",
      "  type: \"SoftmaxWithLossGradient\"\n",
      "  is_gradient_op: true\n",
      "}\n",
      "op {\n",
      "  input: \"pred\"\n",
      "  input: \"pred_grad\"\n",
      "  output: \"fc1_grad\"\n",
      "  name: \"\"\n",
      "  type: \"SigmoidGradient\"\n",
      "  is_gradient_op: true\n",
      "}\n",
      "op {\n",
      "  input: \"data\"\n",
      "  input: \"fc1_w\"\n",
      "  input: \"fc1_grad\"\n",
      "  output: \"fc1_w_grad\"\n",
      "  output: \"fc1_b_grad\"\n",
      "  output: \"data_grad\"\n",
      "  name: \"\"\n",
      "  type: \"FCGradient\"\n",
      "  is_gradient_op: true\n",
      "}\n",
      "external_input: \"data\"\n",
      "external_input: \"fc1_w\"\n",
      "external_input: \"fc1_b\"\n",
      "external_input: \"label\"\n",
      "\n"
     ]
    }
   ],
   "source": [
    "m.AddGradientOperators([loss])\n",
    "print(str(m.net.Proto()))"
   ]
  },
  {
   "cell_type": "code",
   "execution_count": null,
   "metadata": {
    "collapsed": true
   },
   "outputs": [],
   "source": []
  }
 ],
 "metadata": {
  "kernelspec": {
   "display_name": "Python 2",
   "language": "python",
   "name": "python2"
  },
  "language_info": {
   "codemirror_mode": {
    "name": "ipython",
    "version": 2
   },
   "file_extension": ".py",
   "mimetype": "text/x-python",
   "name": "python",
   "nbconvert_exporter": "python",
   "pygments_lexer": "ipython2",
   "version": "2.7.12"
  }
 },
 "nbformat": 4,
 "nbformat_minor": 2
}
